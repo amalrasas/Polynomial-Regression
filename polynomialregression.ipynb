{
  "nbformat": 4,
  "nbformat_minor": 0,
  "metadata": {
    "colab": {
      "provenance": []
    },
    "kernelspec": {
      "name": "python3",
      "display_name": "Python 3"
    },
    "language_info": {
      "name": "python"
    }
  },
  "cells": [
    {
      "cell_type": "markdown",
      "source": [
        "Assignment 2"
      ],
      "metadata": {
        "id": "ZTc2LilbarAq"
      }
    },
    {
      "cell_type": "code",
      "execution_count": null,
      "metadata": {
        "colab": {
          "base_uri": "https://localhost:8080/"
        },
        "id": "EZ92WaJ-ZqCd",
        "outputId": "618fa6f9-ac24-478d-d425-727c3077db95"
      },
      "outputs": [
        {
          "output_type": "stream",
          "name": "stdout",
          "text": [
            "Mounted at /content/drive\n"
          ]
        }
      ],
      "source": [
        "from google.colab import drive\n",
        "drive.mount('/content/drive')"
      ]
    },
    {
      "cell_type": "markdown",
      "source": [
        "Importing the dataset from google drive."
      ],
      "metadata": {
        "id": "LeVkODCYuHzq"
      }
    },
    {
      "cell_type": "code",
      "source": [
        "import pandas as pd\n",
        "path = \"/content/drive/MyDrive/ML Assignment 2 /Fish.csv\"\n",
        "df=pd.read_csv(path, on_bad_lines='skip')\n",
        "df.head()"
      ],
      "metadata": {
        "id": "HQmp4wdFa3cZ"
      },
      "execution_count": null,
      "outputs": []
    },
    {
      "cell_type": "markdown",
      "source": [
        "Dataset Description: \n",
        "\n",
        "*This dataset contains model-specific fish species, weight, length, height and width\n",
        "\n",
        "\n",
        "\n",
        " "
      ],
      "metadata": {
        "id": "LRR8EyABbx2B"
      }
    },
    {
      "cell_type": "markdown",
      "source": [
        "Importing important libraries "
      ],
      "metadata": {
        "id": "KlTEJC-Tub0x"
      }
    },
    {
      "cell_type": "code",
      "source": [
        "import numpy as np\n",
        "import pandas as pd\n",
        "import seaborn as sns\n",
        "import matplotlib.pyplot as plt\n",
        "from sklearn import preprocessing, svm\n",
        "from sklearn.model_selection import train_test_split\n",
        "from sklearn.linear_model import LinearRegression"
      ],
      "metadata": {
        "id": "53cswB6QcuRx"
      },
      "execution_count": null,
      "outputs": []
    },
    {
      "cell_type": "markdown",
      "source": [
        "The code below is to plot the width and weight of fish."
      ],
      "metadata": {
        "id": "PKd8X-npvHu8"
      }
    },
    {
      "cell_type": "code",
      "source": [
        "y =np.array(df.Weight.values.reshape(-1,1)) \n",
        "x =np.array(df.Width.values.reshape(-1,1)) \n",
        "\n",
        "plt.scatter(x,y)\n",
        "plt.title('Dataset')\n",
        "plt.ylabel(\"weight of fish in Gram\")\n",
        "plt.xlabel(\"diagonal width in cm\")"
      ],
      "metadata": {
        "id": "dDzhZnaTdYv5"
      },
      "execution_count": null,
      "outputs": []
    },
    {
      "cell_type": "markdown",
      "source": [
        "PART 1:"
      ],
      "metadata": {
        "id": "EFawWJY0-7Ov"
      }
    },
    {
      "cell_type": "markdown",
      "source": [
        "The code below splits the dataset into 75% training, 10% testing, 15% validation and performs Linear Regression on dataset from sklearn library."
      ],
      "metadata": {
        "id": "_1Y8I9TGyQgU"
      }
    },
    {
      "cell_type": "code",
      "source": [
        "#x_train, x_test, y_train, y_test = train_test_split(x, y, test_size = 0.3)\n",
        "train_ratio = 0.75\n",
        "validation_ratio = 0.15\n",
        "test_ratio = 0.10\n",
        "x_train, x_test, y_train, y_test = train_test_split(x, y, test_size=1 - train_ratio) #sets test size =25% \n",
        "x_val, x_test, y_val, y_test = train_test_split(x_test, y_test, test_size=test_ratio/(test_ratio + validation_ratio)) \n",
        "linear_reg=LinearRegression()\n",
        "linear_reg.fit(x_train,y_train)\n",
        "y_pred = linear_reg.predict(x_test)\n",
        "\n",
        "plt.scatter(x_test, y_test, color ='b')\n",
        "\n",
        "plt.plot(x_test, y_pred, color ='k')\n",
        "plt.title('Dataset')\n",
        "plt.ylabel(\"weight of fish in Gram\")\n",
        "plt.xlabel(\"diagonal width in cm\")\n",
        "plt.show()\n",
        "\n"
      ],
      "metadata": {
        "colab": {
          "base_uri": "https://localhost:8080/",
          "height": 295
        },
        "id": "XmVrx6kWv1S_",
        "outputId": "8ffea102-597d-4d4d-a59e-cc98d49b89b8"
      },
      "execution_count": null,
      "outputs": [
        {
          "output_type": "display_data",
          "data": {
            "text/plain": [
              "<Figure size 432x288 with 1 Axes>"
            ],
            "image/png": "[encoded data removed]"
          },
          "metadata": {
            "needs_background": "light"
          }
        }
      ]
    },
    {
      "cell_type": "markdown",
      "source": [
        "In the code below, I'm calculating the mean absolute error for the dataset without scaling and after applying linear regression on it."
      ],
      "metadata": {
        "id": "THS13NC7Qp5_"
      }
    },
    {
      "cell_type": "code",
      "source": [
        "from sklearn.metrics import mean_absolute_error\n",
        "error1= mean_absolute_error(y_test, y_pred)\n",
        "print('mean absolute error = '+str(error1))"
      ],
      "metadata": {
        "colab": {
          "base_uri": "https://localhost:8080/"
        },
        "id": "SVcdqog1QoB5",
        "outputId": "03e7b316-055d-44f1-9da2-d9e19a91954e"
      },
      "execution_count": null,
      "outputs": [
        {
          "output_type": "stream",
          "name": "stdout",
          "text": [
            "mean absolute error = 90.89366066646474\n"
          ]
        }
      ]
    },
    {
      "cell_type": "markdown",
      "source": [
        "PART 3:"
      ],
      "metadata": {
        "id": "XWISqIXi_AGO"
      }
    },
    {
      "cell_type": "markdown",
      "source": [
        "Applying polynomial regression with feature of degree=4 without scaling the dataset."
      ],
      "metadata": {
        "id": "3as8Tw298AS9"
      }
    },
    {
      "cell_type": "code",
      "source": [
        "from sklearn.preprocessing import PolynomialFeatures\n",
        "poly_transform = PolynomialFeatures(degree=4, include_bias=False)\n",
        "x_poly_train = poly_transform.fit_transform(x_train)\n",
        "x_poly_test = poly_transform.transform(x_test)\n",
        "\n",
        "regressor = LinearRegression()\n",
        "regressor.fit(x_poly_train, y_train)\n",
        "y_pred = regressor.predict(x_poly_train)\n"
      ],
      "metadata": {
        "id": "UVdj4nJT6a9a"
      },
      "execution_count": null,
      "outputs": []
    },
    {
      "cell_type": "markdown",
      "source": [
        "Calculating the mean absolute error after applying polynomial regression with feature of degree 4 without scaling the dataset.You can clearly tell that the mean absolute error has decreased."
      ],
      "metadata": {
        "id": "PFSnLloxX3k0"
      }
    },
    {
      "cell_type": "code",
      "source": [
        "error2= mean_absolute_error(y_train, y_pred)\n",
        "print('mean absolute error = '+str(error2))\n",
        "\n"
      ],
      "metadata": {
        "colab": {
          "base_uri": "https://localhost:8080/"
        },
        "id": "PtK-G_FC_Tf2",
        "outputId": "34f178a6-94f0-413c-c332-8e66d15f52e0"
      },
      "execution_count": null,
      "outputs": [
        {
          "output_type": "stream",
          "name": "stdout",
          "text": [
            "mean absolute error = 81.82353747826222\n"
          ]
        }
      ]
    },
    {
      "cell_type": "code",
      "source": [
        "x_grid_train = np.arange(min(x_train), max(x_train) + .01, step=0.01)\n",
        "x_grid_test = np.arange(min(x_test), max(x_test) + .01, step=0.01)\n",
        "x_grid_train = x_grid_train.reshape(len(x_grid_train), 1)\n",
        "#x_grid_test = x_grid_train.reshape(len(x_grid_test), 1)\n",
        "plt.scatter(x, y, color='red', label='Training Data Points')\n",
        "plt.plot(x_grid_train, regressor.predict(poly_transform.transform(x_grid_train)), color='blue', label='Model Curve')"
      ],
      "metadata": {
        "colab": {
          "base_uri": "https://localhost:8080/",
          "height": 282
        },
        "id": "L38T_puy65aq",
        "outputId": "c27c3b98-f013-4bc5-e842-158aea473554"
      },
      "execution_count": null,
      "outputs": [
        {
          "output_type": "execute_result",
          "data": {
            "text/plain": [
              "[<matplotlib.lines.Line2D at 0x7ffacd736450>]"
            ]
          },
          "metadata": {},
          "execution_count": 55
        },
        {
          "output_type": "display_data",
          "data": {
            "text/plain": [
              "<Figure size 432x288 with 1 Axes>"
            ],
            "image/png": "[encoded data removed]"
          },
          "metadata": {
            "needs_background": "light"
          }
        }
      ]
    },
    {
      "cell_type": "markdown",
      "source": [
        "Then I did polynomial regression with feature of degree=20 (high variance/overfit) without scaling the dataset."
      ],
      "metadata": {
        "id": "Kb6coW__9r2T"
      }
    },
    {
      "cell_type": "code",
      "source": [
        "from sklearn.preprocessing import PolynomialFeatures\n",
        "poly_transform = PolynomialFeatures(degree=20, include_bias=False)\n",
        "x_poly_train = poly_transform.fit_transform(x_train)\n",
        "x_poly_test = poly_transform.transform(x_test)\n",
        "\n",
        "regressor = LinearRegression()\n",
        "regressor.fit(x_poly_train, y_train)\n",
        "x_grid_train = np.arange(min(x_train), max(x_train) + .01, step=0.01)\n",
        "x_grid_test = np.arange(min(x_test), max(x_test) + .01, step=0.01)\n",
        "x_grid_train = x_grid_train.reshape(len(x_grid_train), 1)\n",
        "#x_grid_test = x_grid_train.reshape(len(x_grid_test), 1)\n",
        "plt.scatter(x, y, color='red', label='Training Data Points')\n",
        "plt.plot(x_grid_train, regressor.predict(poly_transform.transform(x_grid_train)), color='blue', label='Model Curve')"
      ],
      "metadata": {
        "colab": {
          "base_uri": "https://localhost:8080/",
          "height": 282
        },
        "id": "Z6SFY2359lxt",
        "outputId": "06d58144-9238-4106-8d65-903a942ba89f"
      },
      "execution_count": null,
      "outputs": [
        {
          "output_type": "execute_result",
          "data": {
            "text/plain": [
              "[<matplotlib.lines.Line2D at 0x7ffacd6aac10>]"
            ]
          },
          "metadata": {},
          "execution_count": 56
        },
        {
          "output_type": "display_data",
          "data": {
            "text/plain": [
              "<Figure size 432x288 with 1 Axes>"
            ],
            "image/png": "[encoded data removed]"
          },
          "metadata": {
            "needs_background": "light"
          }
        }
      ]
    },
    {
      "cell_type": "code",
      "source": [
        "y_pred = regressor.predict(x_poly_train)\n",
        "error3= mean_absolute_error(y_train, y_pred)\n",
        "print('mean absolute error = '+str(error3))"
      ],
      "metadata": {
        "colab": {
          "base_uri": "https://localhost:8080/"
        },
        "id": "oh6xuSufCscX",
        "outputId": "fd3bd793-e72e-4c2d-dfc8-16efed4899aa"
      },
      "execution_count": null,
      "outputs": [
        {
          "output_type": "stream",
          "name": "stdout",
          "text": [
            "mean absolute error = 79.53653450552434\n"
          ]
        }
      ]
    },
    {
      "cell_type": "markdown",
      "source": [
        "In this part I'm going to scale my data first using Standardization scaling method.\n",
        "Standardization is a scaling technique where the values are centered around the mean with a unit standard deviation. This means that the mean of the attribute becomes zero and the resultant distribution has a unit standard deviation."
      ],
      "metadata": {
        "id": "kwLm1HkcGLCf"
      }
    },
    {
      "cell_type": "code",
      "source": [
        "from sklearn.preprocessing import StandardScaler\n",
        "scaler = StandardScaler()\n",
        "scaler.fit(x_train)\n",
        "x_train_scaled=scaler.transform(x_train)\n",
        "x_test_scaled=scaler.transform(x_test)"
      ],
      "metadata": {
        "id": "Q0R3W_bqYjsD"
      },
      "execution_count": null,
      "outputs": []
    },
    {
      "cell_type": "markdown",
      "source": [
        "I'm going to apply polynomial regression of degree 4 with scaled dataset."
      ],
      "metadata": {
        "id": "jW-W09l6iXhk"
      }
    },
    {
      "cell_type": "code",
      "source": [
        "poly_transform = PolynomialFeatures(degree=4, include_bias=False)\n",
        "x_poly_train_scaled = poly_transform.fit_transform(x_train_scaled)\n",
        "x_poly_test_scaled = poly_transform.transform(x_test_scaled)\n",
        "\n",
        "regressor = LinearRegression()\n",
        "regressor.fit(x_poly_train_scaled, y_train)\n",
        "x_grid_train = np.arange(min(x_train_scaled), max(x_train_scaled) + .01, step=0.01)\n",
        "x_grid_test = np.arange(min(x_test_scaled), max(x_test_scaled) + .01, step=0.01)\n",
        "x_grid_train = x_grid_train.reshape(len(x_grid_train), 1)\n",
        "#x_grid_test = x_grid_train.reshape(len(x_grid_test), 1)\n",
        "plt.scatter(x, y, color='red', label='Training Data Points')\n",
        "plt.plot(x_grid_train, regressor.predict(poly_transform.transform(x_grid_train)), color='blue', label='Model Curve')"
      ],
      "metadata": {
        "colab": {
          "base_uri": "https://localhost:8080/",
          "height": 282
        },
        "id": "eCRJvxvLGNg1",
        "outputId": "67fdb2cf-3633-4763-dfc5-3bd865b725b5"
      },
      "execution_count": null,
      "outputs": [
        {
          "output_type": "execute_result",
          "data": {
            "text/plain": [
              "[<matplotlib.lines.Line2D at 0x7ffacd624fd0>]"
            ]
          },
          "metadata": {},
          "execution_count": 59
        },
        {
          "output_type": "display_data",
          "data": {
            "text/plain": [
              "<Figure size 432x288 with 1 Axes>"
            ],
            "image/png": "[encoded data removed]"
          },
          "metadata": {
            "needs_background": "light"
          }
        }
      ]
    },
    {
      "cell_type": "code",
      "source": [
        "y_pred = regressor.predict(x_poly_train_scaled)\n",
        "error4= mean_absolute_error(y_train, y_pred)\n",
        "print('mean absolute error = '+str(error4))"
      ],
      "metadata": {
        "colab": {
          "base_uri": "https://localhost:8080/"
        },
        "id": "WR-EX-I1hlbV",
        "outputId": "7235d04e-2c05-49f8-cb13-ba34af9da275"
      },
      "execution_count": null,
      "outputs": [
        {
          "output_type": "stream",
          "name": "stdout",
          "text": [
            "mean absolute error = 81.82353747826286\n"
          ]
        }
      ]
    },
    {
      "cell_type": "markdown",
      "source": [
        "I'm going to apply polynomial regression of degree 20 with scaled dataset."
      ],
      "metadata": {
        "id": "5LSIdU1jifEE"
      }
    },
    {
      "cell_type": "code",
      "source": [
        "poly_transform = PolynomialFeatures(degree=20, include_bias=False)\n",
        "x_poly_train_scaled = poly_transform.fit_transform(x_train_scaled)\n",
        "x_poly_test_scaled = poly_transform.transform(x_test_scaled)\n",
        "\n",
        "regressor = LinearRegression()\n",
        "regressor.fit(x_poly_train_scaled, y_train)\n",
        "x_grid_train = np.arange(min(x_train_scaled), max(x_train_scaled) + .01, step=0.01)\n",
        "x_grid_test = np.arange(min(x_test_scaled), max(x_test_scaled) + .01, step=0.01)\n",
        "x_grid_train = x_grid_train.reshape(len(x_grid_train), 1)\n",
        "#x_grid_test = x_grid_train.reshape(len(x_grid_test), 1)\n",
        "plt.scatter(x, y, color='red', label='Training Data Points')\n",
        "plt.plot(x_grid_train, regressor.predict(poly_transform.transform(x_grid_train)), color='blue', label='Model Curve')\n"
      ],
      "metadata": {
        "colab": {
          "base_uri": "https://localhost:8080/",
          "height": 282
        },
        "id": "y8yIIGCyih-D",
        "outputId": "ca41a210-de4f-4ca6-a87e-ece21f2eb79c"
      },
      "execution_count": null,
      "outputs": [
        {
          "output_type": "execute_result",
          "data": {
            "text/plain": [
              "[<matplotlib.lines.Line2D at 0x7ffacd622210>]"
            ]
          },
          "metadata": {},
          "execution_count": 61
        },
        {
          "output_type": "display_data",
          "data": {
            "text/plain": [
              "<Figure size 432x288 with 1 Axes>"
            ],
            "image/png": "[encoded data removed]"
          },
          "metadata": {
            "needs_background": "light"
          }
        }
      ]
    },
    {
      "cell_type": "code",
      "source": [
        "y_pred = regressor.predict(x_poly_train_scaled)\n",
        "error5= mean_absolute_error(y_train, y_pred)\n",
        "print('mean absolute error = '+str(error5))"
      ],
      "metadata": {
        "colab": {
          "base_uri": "https://localhost:8080/"
        },
        "id": "eb6WeXynikHL",
        "outputId": "7d3c0525-8cb6-4aa7-8a8d-5e0d435b8d72"
      },
      "execution_count": null,
      "outputs": [
        {
          "output_type": "stream",
          "name": "stdout",
          "text": [
            "mean absolute error = 81.01178170673887\n"
          ]
        }
      ]
    },
    {
      "cell_type": "markdown",
      "source": [
        "In conclusion: "
      ],
      "metadata": {
        "id": "BIa6jsm6qt-O"
      }
    },
    {
      "cell_type": "markdown",
      "source": [
        "The table below summarizes the Mean Absolute values of Linear Regression with high bias (underfit) without scaling, Poly Regression of degree 4, Poly Regression with high variance (overfit) and the unscaled version of them.  "
      ],
      "metadata": {
        "id": "gvzjs7GRn5xU"
      }
    },
    {
      "cell_type": "markdown",
      "source": [
        "![Screenshot (38).png](data:image/png;base64,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)"
      ],
      "metadata": {
        "id": "Jerh--6OlKwk"
      }
    },
    {
      "cell_type": "markdown",
      "source": [
        "for the scaled version you can clearly tell that the MAE value of poly regression < linear regression.\n",
        "\n",
        "We can notice that MAE value of poly regression degree 20 < poly regression degree 4. \n",
        "So, increasing the number of features decreases the MAE value.\n",
        "\n",
        "for the unscaled version the MAE value of the poly regression < linear regression as well. \n",
        "MAE value of poly regression degree 4 > poly regression degree 20.\n",
        "and we can notice that without scaling when we increase the number of features the MAE value decreases. "
      ],
      "metadata": {
        "id": "I1cgnN3hn0jW"
      }
    }
  ]
}